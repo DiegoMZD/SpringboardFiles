{
 "cells": [
  {
   "cell_type": "code",
   "execution_count": 2,
   "id": "2e9fe5c6-90e8-4157-9718-7dbc000e5c82",
   "metadata": {},
   "outputs": [],
   "source": [
    "# first commit"
   ]
  },
  {
   "cell_type": "code",
   "execution_count": 3,
   "id": "481d04cf-3755-4582-8dec-c7b8143303ad",
   "metadata": {},
   "outputs": [
    {
     "name": "stdout",
     "output_type": "stream",
     "text": [
      "Hello World\n"
     ]
    }
   ],
   "source": [
    "x = \"Hello World\"\n",
    "print(x)"
   ]
  },
  {
   "cell_type": "code",
   "execution_count": null,
   "id": "82455594-e408-43ff-87a3-d2876d48c167",
   "metadata": {},
   "outputs": [],
   "source": []
  }
 ],
 "metadata": {
  "kernelspec": {
   "display_name": "Python 3 (ipykernel)",
   "language": "python",
   "name": "python3"
  },
  "language_info": {
   "codemirror_mode": {
    "name": "ipython",
    "version": 3
   },
   "file_extension": ".py",
   "mimetype": "text/x-python",
   "name": "python",
   "nbconvert_exporter": "python",
   "pygments_lexer": "ipython3",
   "version": "3.11.7"
  }
 },
 "nbformat": 4,
 "nbformat_minor": 5
}
